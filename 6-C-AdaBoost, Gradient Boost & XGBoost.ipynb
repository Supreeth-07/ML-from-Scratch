{
 "cells": [
  {
   "cell_type": "markdown",
   "id": "f14011d4-2ad1-42e2-b5a7-ce18e84105e1",
   "metadata": {},
   "source": [
    "# Import necessary libraries\n"
   ]
  },
  {
   "cell_type": "code",
   "execution_count": null,
   "id": "b8d58dfc-c177-465f-abe2-2d8292242196",
   "metadata": {},
   "outputs": [],
   "source": [
    "#pip install xgboost"
   ]
  },
  {
   "cell_type": "code",
   "execution_count": 6,
   "id": "a636a33a-11b3-48f9-9c0b-07ffeffe2860",
   "metadata": {},
   "outputs": [],
   "source": [
    "import pandas as pd\n",
    "import numpy as np\n",
    "from sklearn.model_selection import train_test_split\n",
    "from sklearn.preprocessing import LabelEncoder, StandardScaler\n",
    "from sklearn.metrics import accuracy_score, confusion_matrix, classification_report\n",
    "from sklearn.ensemble import AdaBoostClassifier, GradientBoostingClassifier\n",
    "import xgboost as xgb"
   ]
  },
  {
   "cell_type": "markdown",
   "id": "e58e7283-6807-4f62-b181-241c3cb7089d",
   "metadata": {},
   "source": [
    "# Load the dataset"
   ]
  },
  {
   "cell_type": "code",
   "execution_count": 8,
   "id": "9771fbd3-4e8f-42d8-8f43-2f034ea7685f",
   "metadata": {},
   "outputs": [],
   "source": [
    "df=pd.read_csv('DataSets/4.Classification-Pollution_dataset-9i & 4or2 o.csv')"
   ]
  },
  {
   "cell_type": "code",
   "execution_count": 10,
   "id": "0f4489c0-fa7c-4587-8740-c12e8ea12bcb",
   "metadata": {},
   "outputs": [
    {
     "name": "stdout",
     "output_type": "stream",
     "text": [
      "<class 'pandas.core.frame.DataFrame'>\n",
      "RangeIndex: 5000 entries, 0 to 4999\n",
      "Data columns (total 11 columns):\n",
      " #   Column                         Non-Null Count  Dtype  \n",
      "---  ------                         --------------  -----  \n",
      " 0   Temperature                    5000 non-null   float64\n",
      " 1   Humidity                       5000 non-null   float64\n",
      " 2   PM2.5                          5000 non-null   float64\n",
      " 3   PM10                           5000 non-null   float64\n",
      " 4   NO2                            5000 non-null   float64\n",
      " 5   SO2                            5000 non-null   float64\n",
      " 6   CO                             5000 non-null   float64\n",
      " 7   Proximity_to_Industrial_Areas  5000 non-null   float64\n",
      " 8   Population_Density             5000 non-null   int64  \n",
      " 9   Air Quality                    5000 non-null   object \n",
      " 10  Binaary_Class                  5000 non-null   object \n",
      "dtypes: float64(8), int64(1), object(2)\n",
      "memory usage: 429.8+ KB\n"
     ]
    }
   ],
   "source": [
    "df.info() #  Target = Air Quality "
   ]
  },
  {
   "cell_type": "code",
   "execution_count": 12,
   "id": "74380a8b-6264-4335-92e8-53dc16a1d616",
   "metadata": {},
   "outputs": [],
   "source": [
    "df.drop(columns=['Binaary_Class'],axis=1,inplace=True) "
   ]
  },
  {
   "cell_type": "code",
   "execution_count": 14,
   "id": "a74cb692-4d66-45f8-ab47-d93c72724483",
   "metadata": {},
   "outputs": [
    {
     "data": {
      "text/html": [
       "<div>\n",
       "<style scoped>\n",
       "    .dataframe tbody tr th:only-of-type {\n",
       "        vertical-align: middle;\n",
       "    }\n",
       "\n",
       "    .dataframe tbody tr th {\n",
       "        vertical-align: top;\n",
       "    }\n",
       "\n",
       "    .dataframe thead th {\n",
       "        text-align: right;\n",
       "    }\n",
       "</style>\n",
       "<table border=\"1\" class=\"dataframe\">\n",
       "  <thead>\n",
       "    <tr style=\"text-align: right;\">\n",
       "      <th></th>\n",
       "      <th>Temperature</th>\n",
       "      <th>Humidity</th>\n",
       "      <th>PM2.5</th>\n",
       "      <th>PM10</th>\n",
       "      <th>NO2</th>\n",
       "      <th>SO2</th>\n",
       "      <th>CO</th>\n",
       "      <th>Proximity_to_Industrial_Areas</th>\n",
       "      <th>Population_Density</th>\n",
       "      <th>Air Quality</th>\n",
       "    </tr>\n",
       "  </thead>\n",
       "  <tbody>\n",
       "    <tr>\n",
       "      <th>0</th>\n",
       "      <td>29.8</td>\n",
       "      <td>59.1</td>\n",
       "      <td>5.2</td>\n",
       "      <td>17.9</td>\n",
       "      <td>18.9</td>\n",
       "      <td>9.2</td>\n",
       "      <td>1.72</td>\n",
       "      <td>6.3</td>\n",
       "      <td>319</td>\n",
       "      <td>Moderate</td>\n",
       "    </tr>\n",
       "    <tr>\n",
       "      <th>1</th>\n",
       "      <td>28.3</td>\n",
       "      <td>75.6</td>\n",
       "      <td>2.3</td>\n",
       "      <td>12.2</td>\n",
       "      <td>30.8</td>\n",
       "      <td>9.7</td>\n",
       "      <td>1.64</td>\n",
       "      <td>6.0</td>\n",
       "      <td>611</td>\n",
       "      <td>Moderate</td>\n",
       "    </tr>\n",
       "    <tr>\n",
       "      <th>2</th>\n",
       "      <td>23.1</td>\n",
       "      <td>74.7</td>\n",
       "      <td>26.7</td>\n",
       "      <td>33.8</td>\n",
       "      <td>24.4</td>\n",
       "      <td>12.6</td>\n",
       "      <td>1.63</td>\n",
       "      <td>5.2</td>\n",
       "      <td>619</td>\n",
       "      <td>Moderate</td>\n",
       "    </tr>\n",
       "    <tr>\n",
       "      <th>3</th>\n",
       "      <td>27.1</td>\n",
       "      <td>39.1</td>\n",
       "      <td>6.1</td>\n",
       "      <td>6.3</td>\n",
       "      <td>13.5</td>\n",
       "      <td>5.3</td>\n",
       "      <td>1.15</td>\n",
       "      <td>11.1</td>\n",
       "      <td>551</td>\n",
       "      <td>Good</td>\n",
       "    </tr>\n",
       "    <tr>\n",
       "      <th>4</th>\n",
       "      <td>26.5</td>\n",
       "      <td>70.7</td>\n",
       "      <td>6.9</td>\n",
       "      <td>16.0</td>\n",
       "      <td>21.9</td>\n",
       "      <td>5.6</td>\n",
       "      <td>1.01</td>\n",
       "      <td>12.7</td>\n",
       "      <td>303</td>\n",
       "      <td>Good</td>\n",
       "    </tr>\n",
       "  </tbody>\n",
       "</table>\n",
       "</div>"
      ],
      "text/plain": [
       "   Temperature  Humidity  PM2.5  PM10   NO2   SO2    CO  \\\n",
       "0         29.8      59.1    5.2  17.9  18.9   9.2  1.72   \n",
       "1         28.3      75.6    2.3  12.2  30.8   9.7  1.64   \n",
       "2         23.1      74.7   26.7  33.8  24.4  12.6  1.63   \n",
       "3         27.1      39.1    6.1   6.3  13.5   5.3  1.15   \n",
       "4         26.5      70.7    6.9  16.0  21.9   5.6  1.01   \n",
       "\n",
       "   Proximity_to_Industrial_Areas  Population_Density Air Quality  \n",
       "0                            6.3                 319    Moderate  \n",
       "1                            6.0                 611    Moderate  \n",
       "2                            5.2                 619    Moderate  \n",
       "3                           11.1                 551        Good  \n",
       "4                           12.7                 303        Good  "
      ]
     },
     "execution_count": 14,
     "metadata": {},
     "output_type": "execute_result"
    }
   ],
   "source": [
    "df.head()"
   ]
  },
  {
   "cell_type": "markdown",
   "id": "25e6b9bd-0b89-4720-b469-8085edb7c0cb",
   "metadata": {},
   "source": [
    "### Label Encoding"
   ]
  },
  {
   "cell_type": "code",
   "execution_count": 16,
   "id": "8f478872-9c7f-431c-959c-3f852fbc02f9",
   "metadata": {},
   "outputs": [],
   "source": [
    "# Initialize the LabelEncoder\n",
    "label_encoder = LabelEncoder()"
   ]
  },
  {
   "cell_type": "code",
   "execution_count": 18,
   "id": "931b8276-64ea-4b9b-a583-216d7d81902d",
   "metadata": {},
   "outputs": [],
   "source": [
    "df['Air Quality'] = label_encoder.fit_transform(df['Air Quality'])"
   ]
  },
  {
   "cell_type": "code",
   "execution_count": 20,
   "id": "3003af38-59b1-4768-a04e-4ff57572b5cc",
   "metadata": {},
   "outputs": [
    {
     "data": {
      "text/html": [
       "<div>\n",
       "<style scoped>\n",
       "    .dataframe tbody tr th:only-of-type {\n",
       "        vertical-align: middle;\n",
       "    }\n",
       "\n",
       "    .dataframe tbody tr th {\n",
       "        vertical-align: top;\n",
       "    }\n",
       "\n",
       "    .dataframe thead th {\n",
       "        text-align: right;\n",
       "    }\n",
       "</style>\n",
       "<table border=\"1\" class=\"dataframe\">\n",
       "  <thead>\n",
       "    <tr style=\"text-align: right;\">\n",
       "      <th></th>\n",
       "      <th>Temperature</th>\n",
       "      <th>Humidity</th>\n",
       "      <th>PM2.5</th>\n",
       "      <th>PM10</th>\n",
       "      <th>NO2</th>\n",
       "      <th>SO2</th>\n",
       "      <th>CO</th>\n",
       "      <th>Proximity_to_Industrial_Areas</th>\n",
       "      <th>Population_Density</th>\n",
       "      <th>Air Quality</th>\n",
       "    </tr>\n",
       "  </thead>\n",
       "  <tbody>\n",
       "    <tr>\n",
       "      <th>0</th>\n",
       "      <td>29.8</td>\n",
       "      <td>59.1</td>\n",
       "      <td>5.2</td>\n",
       "      <td>17.9</td>\n",
       "      <td>18.9</td>\n",
       "      <td>9.2</td>\n",
       "      <td>1.72</td>\n",
       "      <td>6.3</td>\n",
       "      <td>319</td>\n",
       "      <td>2</td>\n",
       "    </tr>\n",
       "    <tr>\n",
       "      <th>1</th>\n",
       "      <td>28.3</td>\n",
       "      <td>75.6</td>\n",
       "      <td>2.3</td>\n",
       "      <td>12.2</td>\n",
       "      <td>30.8</td>\n",
       "      <td>9.7</td>\n",
       "      <td>1.64</td>\n",
       "      <td>6.0</td>\n",
       "      <td>611</td>\n",
       "      <td>2</td>\n",
       "    </tr>\n",
       "    <tr>\n",
       "      <th>2</th>\n",
       "      <td>23.1</td>\n",
       "      <td>74.7</td>\n",
       "      <td>26.7</td>\n",
       "      <td>33.8</td>\n",
       "      <td>24.4</td>\n",
       "      <td>12.6</td>\n",
       "      <td>1.63</td>\n",
       "      <td>5.2</td>\n",
       "      <td>619</td>\n",
       "      <td>2</td>\n",
       "    </tr>\n",
       "    <tr>\n",
       "      <th>3</th>\n",
       "      <td>27.1</td>\n",
       "      <td>39.1</td>\n",
       "      <td>6.1</td>\n",
       "      <td>6.3</td>\n",
       "      <td>13.5</td>\n",
       "      <td>5.3</td>\n",
       "      <td>1.15</td>\n",
       "      <td>11.1</td>\n",
       "      <td>551</td>\n",
       "      <td>0</td>\n",
       "    </tr>\n",
       "    <tr>\n",
       "      <th>4</th>\n",
       "      <td>26.5</td>\n",
       "      <td>70.7</td>\n",
       "      <td>6.9</td>\n",
       "      <td>16.0</td>\n",
       "      <td>21.9</td>\n",
       "      <td>5.6</td>\n",
       "      <td>1.01</td>\n",
       "      <td>12.7</td>\n",
       "      <td>303</td>\n",
       "      <td>0</td>\n",
       "    </tr>\n",
       "  </tbody>\n",
       "</table>\n",
       "</div>"
      ],
      "text/plain": [
       "   Temperature  Humidity  PM2.5  PM10   NO2   SO2    CO  \\\n",
       "0         29.8      59.1    5.2  17.9  18.9   9.2  1.72   \n",
       "1         28.3      75.6    2.3  12.2  30.8   9.7  1.64   \n",
       "2         23.1      74.7   26.7  33.8  24.4  12.6  1.63   \n",
       "3         27.1      39.1    6.1   6.3  13.5   5.3  1.15   \n",
       "4         26.5      70.7    6.9  16.0  21.9   5.6  1.01   \n",
       "\n",
       "   Proximity_to_Industrial_Areas  Population_Density  Air Quality  \n",
       "0                            6.3                 319            2  \n",
       "1                            6.0                 611            2  \n",
       "2                            5.2                 619            2  \n",
       "3                           11.1                 551            0  \n",
       "4                           12.7                 303            0  "
      ]
     },
     "execution_count": 20,
     "metadata": {},
     "output_type": "execute_result"
    }
   ],
   "source": [
    "df.head()"
   ]
  },
  {
   "cell_type": "markdown",
   "id": "92a23702-a0c1-4522-a1f4-252d6d944b68",
   "metadata": {},
   "source": [
    "### Split the data into training and testing sets"
   ]
  },
  {
   "cell_type": "code",
   "execution_count": 29,
   "id": "7f11dff6-e538-490e-a070-fb492b9ad5d0",
   "metadata": {},
   "outputs": [],
   "source": [
    "X=df.drop(columns=['Air Quality'],axis=1)\n",
    "y=df['Air Quality']"
   ]
  },
  {
   "cell_type": "code",
   "execution_count": 31,
   "id": "e22a2459-ddba-4025-9f1a-3e9c10c57191",
   "metadata": {},
   "outputs": [
    {
     "name": "stdout",
     "output_type": "stream",
     "text": [
      "(5000, 9)\n",
      "(5000,)\n"
     ]
    }
   ],
   "source": [
    "print(X.shape)\n",
    "print(y.shape)"
   ]
  },
  {
   "cell_type": "code",
   "execution_count": 33,
   "id": "95019766-d120-4040-8d6a-a8d4429834d0",
   "metadata": {},
   "outputs": [],
   "source": [
    "X_train, X_test, y_train, y_test = train_test_split(X,y,test_size=0.25,random_state=42)"
   ]
  },
  {
   "cell_type": "code",
   "execution_count": 35,
   "id": "04f17adf-49cb-4b34-9bf5-67001ade60c8",
   "metadata": {},
   "outputs": [
    {
     "name": "stdout",
     "output_type": "stream",
     "text": [
      "(3750, 9)\n",
      "(1250, 9)\n",
      "(3750,)\n",
      "(1250,)\n"
     ]
    }
   ],
   "source": [
    "print(X_train.shape)\n",
    "print(X_test.shape)\n",
    "print(y_train.shape)\n",
    "print(y_test.shape)"
   ]
  },
  {
   "cell_type": "markdown",
   "id": "1ac6b1f9-14c9-44a3-94dd-df574399f5c7",
   "metadata": {},
   "source": [
    "# Define & Evaluate the model"
   ]
  },
  {
   "cell_type": "markdown",
   "id": "c1c8b1fb-ce22-4cff-b28d-1f6ef1c13ac3",
   "metadata": {},
   "source": [
    "### 1. AdaBoost Classifier"
   ]
  },
  {
   "cell_type": "code",
   "execution_count": 54,
   "id": "514683d1-a026-47ae-bb7e-fea957c51464",
   "metadata": {},
   "outputs": [
    {
     "name": "stdout",
     "output_type": "stream",
     "text": [
      "-------------------------------------------------------\n",
      "AdaBoost Classifier Accuracy: 0.7368\n",
      "-------------------------------------------------------\n",
      "AdaBoost Classifier Confusion Matrix:\n",
      "[[359   0 149   0]\n",
      " [  0  47   3  82]\n",
      " [  3   0 346  32]\n",
      " [  0   1  59 169]]\n",
      "-------------------------------------------------------\n",
      "AdaBoost Classifier Classification Report:\n",
      "              precision    recall  f1-score   support\n",
      "\n",
      "           0       0.99      0.71      0.83       508\n",
      "           1       0.98      0.36      0.52       132\n",
      "           2       0.62      0.91      0.74       381\n",
      "           3       0.60      0.74      0.66       229\n",
      "\n",
      "    accuracy                           0.74      1250\n",
      "   macro avg       0.80      0.68      0.69      1250\n",
      "weighted avg       0.81      0.74      0.74      1250\n",
      "\n",
      "-------------------------------------------------------\n"
     ]
    }
   ],
   "source": [
    "# Initialize AdaBoost Classifier\n",
    "ada_boost = AdaBoostClassifier(n_estimators=50, random_state=42)\n",
    "\n",
    "# Train the model\n",
    "ada_boost.fit(X_train, y_train)\n",
    "\n",
    "# Make predictions\n",
    "y_pred_ada = ada_boost.predict(X_test)\n",
    "\n",
    "print('-'*55)\n",
    "\n",
    "# Evaluate the model\n",
    "accuracy_ada = accuracy_score(y_test, y_pred_ada)\n",
    "print(f\"AdaBoost Classifier Accuracy: {accuracy_ada:.4f}\")\n",
    "\n",
    "print('-'*55)\n",
    "\n",
    "print(\"AdaBoost Classifier Confusion Matrix:\")\n",
    "print(confusion_matrix(y_test, y_pred_ada))\n",
    "\n",
    "print('-'*55)\n",
    "\n",
    "print(\"AdaBoost Classifier Classification Report:\")\n",
    "print(classification_report(y_test, y_pred_ada))\n",
    "\n",
    "print('-'*55)"
   ]
  },
  {
   "cell_type": "markdown",
   "id": "8412056d-0b2b-4e42-b7c0-bdae848cddd0",
   "metadata": {},
   "source": [
    "### 2. Gradient Boosting Classifier"
   ]
  },
  {
   "cell_type": "code",
   "execution_count": 56,
   "id": "14d326e0-94b6-4051-9c00-993c927b10a3",
   "metadata": {},
   "outputs": [
    {
     "name": "stdout",
     "output_type": "stream",
     "text": [
      "-------------------------------------------------------\n",
      "Gradient Boosting Classifier Accuracy: 0.9488\n",
      "-------------------------------------------------------\n",
      "Gradient Boosting Classifier Confusion Matrix:\n",
      "[[508   0   0   0]\n",
      " [  0 110   0  22]\n",
      " [  4   0 364  13]\n",
      " [  0  12  13 204]]\n",
      "-------------------------------------------------------\n",
      "Gradient Boosting Classifier Classification Report:\n",
      "              precision    recall  f1-score   support\n",
      "\n",
      "           0       0.99      1.00      1.00       508\n",
      "           1       0.90      0.83      0.87       132\n",
      "           2       0.97      0.96      0.96       381\n",
      "           3       0.85      0.89      0.87       229\n",
      "\n",
      "    accuracy                           0.95      1250\n",
      "   macro avg       0.93      0.92      0.92      1250\n",
      "weighted avg       0.95      0.95      0.95      1250\n",
      "\n",
      "-------------------------------------------------------\n"
     ]
    }
   ],
   "source": [
    "# Initialize Gradient Boosting Classifier\n",
    "grad_boost = GradientBoostingClassifier(n_estimators=50, random_state=42)\n",
    "\n",
    "# Train the model\n",
    "grad_boost.fit(X_train, y_train)\n",
    "\n",
    "# Make predictions\n",
    "y_pred_grad = grad_boost.predict(X_test)\n",
    "\n",
    "print('-'*55)\n",
    "\n",
    "# Evaluate the model\n",
    "accuracy_grad = accuracy_score(y_test, y_pred_grad)\n",
    "print(f\"Gradient Boosting Classifier Accuracy: {accuracy_grad:.4f}\")\n",
    "\n",
    "print('-'*55)\n",
    "\n",
    "print(\"Gradient Boosting Classifier Confusion Matrix:\")\n",
    "print(confusion_matrix(y_test, y_pred_grad))\n",
    "\n",
    "print('-'*55)\n",
    "\n",
    "print(\"Gradient Boosting Classifier Classification Report:\")\n",
    "print(classification_report(y_test, y_pred_grad))\n",
    "\n",
    "print('-'*55)"
   ]
  },
  {
   "cell_type": "markdown",
   "id": "67e55bb3-541a-46ff-8ae1-fc6088159fb3",
   "metadata": {},
   "source": [
    "### 3. XGBoost Classifier"
   ]
  },
  {
   "cell_type": "code",
   "execution_count": 57,
   "id": "4e764861-99e3-4cd4-b1d0-3c38796c88b9",
   "metadata": {},
   "outputs": [
    {
     "name": "stdout",
     "output_type": "stream",
     "text": [
      "-------------------------------------------------------\n",
      "XGBoost Classifier Accuracy: 0.9568\n",
      "-------------------------------------------------------\n",
      "XGBoost Classifier Confusion Matrix:\n",
      "[[508   0   0   0]\n",
      " [  0 115   1  16]\n",
      " [  0   0 366  15]\n",
      " [  0  13   9 207]]\n",
      "-------------------------------------------------------\n",
      "XGBoost Classifier Classification Report:\n",
      "              precision    recall  f1-score   support\n",
      "\n",
      "           0       1.00      1.00      1.00       508\n",
      "           1       0.90      0.87      0.88       132\n",
      "           2       0.97      0.96      0.97       381\n",
      "           3       0.87      0.90      0.89       229\n",
      "\n",
      "    accuracy                           0.96      1250\n",
      "   macro avg       0.94      0.93      0.93      1250\n",
      "weighted avg       0.96      0.96      0.96      1250\n",
      "\n",
      "-------------------------------------------------------\n"
     ]
    }
   ],
   "source": [
    "# Initialize XGBoost Classifier\n",
    "xgb_model = xgb.XGBClassifier(n_estimators=50, random_state=42)\n",
    "\n",
    "# Train the model\n",
    "xgb_model.fit(X_train, y_train)\n",
    "\n",
    "# Make predictions\n",
    "y_pred_xgb = xgb_model.predict(X_test)\n",
    "\n",
    "print('-'*55)\n",
    "\n",
    "# Evaluate the model\n",
    "accuracy_xgb = accuracy_score(y_test, y_pred_xgb)\n",
    "print(f\"XGBoost Classifier Accuracy: {accuracy_xgb:.4f}\")\n",
    "\n",
    "print('-'*55)\n",
    "\n",
    "print(\"XGBoost Classifier Confusion Matrix:\")\n",
    "print(confusion_matrix(y_test, y_pred_xgb))\n",
    "\n",
    "print('-'*55)\n",
    "\n",
    "print(\"XGBoost Classifier Classification Report:\")\n",
    "print(classification_report(y_test, y_pred_xgb))\n",
    "\n",
    "print('-'*55)"
   ]
  },
  {
   "cell_type": "code",
   "execution_count": null,
   "id": "d6bf42b6-93f4-4f11-b8f9-db2b07998675",
   "metadata": {},
   "outputs": [],
   "source": []
  },
  {
   "cell_type": "code",
   "execution_count": null,
   "id": "183e4a32-4ea2-4c53-9bca-f8b8c28f611d",
   "metadata": {},
   "outputs": [],
   "source": []
  },
  {
   "cell_type": "code",
   "execution_count": null,
   "id": "6327a6a3-953b-41b3-87c8-5576fee9225c",
   "metadata": {},
   "outputs": [],
   "source": []
  },
  {
   "cell_type": "code",
   "execution_count": null,
   "id": "a42bc60b-cd32-4202-89c0-36d47ccd59c0",
   "metadata": {},
   "outputs": [],
   "source": []
  },
  {
   "cell_type": "code",
   "execution_count": null,
   "id": "d5eb8e15-c072-4298-a4c0-f69bfcc9b674",
   "metadata": {},
   "outputs": [],
   "source": []
  },
  {
   "cell_type": "code",
   "execution_count": null,
   "id": "9fc8d663-5de7-49c5-85a8-2784a8e3394b",
   "metadata": {},
   "outputs": [],
   "source": []
  }
 ],
 "metadata": {
  "kernelspec": {
   "display_name": "Python 3 (ipykernel)",
   "language": "python",
   "name": "python3"
  },
  "language_info": {
   "codemirror_mode": {
    "name": "ipython",
    "version": 3
   },
   "file_extension": ".py",
   "mimetype": "text/x-python",
   "name": "python",
   "nbconvert_exporter": "python",
   "pygments_lexer": "ipython3",
   "version": "3.11.7"
  }
 },
 "nbformat": 4,
 "nbformat_minor": 5
}
