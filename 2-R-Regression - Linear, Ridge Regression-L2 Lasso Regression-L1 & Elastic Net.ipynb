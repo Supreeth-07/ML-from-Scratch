{
 "cells": [
  {
   "cell_type": "markdown",
   "id": "88c9e108-34d8-4c5f-b555-9345cc4935e7",
   "metadata": {},
   "source": [
    "# Import libraries"
   ]
  },
  {
   "cell_type": "code",
   "execution_count": 42,
   "id": "38d293a2-6a3a-4f79-a42d-1d73d46b4f43",
   "metadata": {},
   "outputs": [],
   "source": [
    "import numpy as np\n",
    "import pandas as pd\n",
    "import matplotlib.pyplot as plt\n",
    "from sklearn.linear_model import LinearRegression, Ridge, Lasso, ElasticNet\n",
    "from sklearn.model_selection import train_test_split, GridSearchCV, RandomizedSearchCV\n",
    "from sklearn.metrics import mean_absolute_error, mean_squared_error, r2_score\n",
    "from scipy.stats import uniform, loguniform"
   ]
  },
  {
   "cell_type": "code",
   "execution_count": 4,
   "id": "cc6ba0d8-ecaa-4db1-b5b2-daa2a98fda53",
   "metadata": {},
   "outputs": [],
   "source": [
    "%matplotlib inline"
   ]
  },
  {
   "cell_type": "markdown",
   "id": "49a46df7-5d60-4327-89dc-6ccc131dc6aa",
   "metadata": {},
   "source": [
    "# Import data"
   ]
  },
  {
   "cell_type": "code",
   "execution_count": 6,
   "id": "53adcb0c-8a3a-43ec-aca5-c0a3c2a01345",
   "metadata": {},
   "outputs": [],
   "source": [
    "df = pd.read_csv('DataSets/2.Regression-Salary_Pred-2i 1o.csv')"
   ]
  },
  {
   "cell_type": "markdown",
   "id": "2c598695-e853-43bb-9d36-82049699f0ac",
   "metadata": {},
   "source": [
    "# Split the data into train and test sets"
   ]
  },
  {
   "cell_type": "code",
   "execution_count": 8,
   "id": "1349bac1-6198-4c01-b149-f71b46060726",
   "metadata": {},
   "outputs": [],
   "source": [
    "X = df.drop(columns=[\"income\"],axis=1,inplace=False)\n",
    "y=df[['income']]"
   ]
  },
  {
   "cell_type": "code",
   "execution_count": 9,
   "id": "24d8385e-00e2-4b34-9d40-c730b47a7cd5",
   "metadata": {},
   "outputs": [
    {
     "name": "stdout",
     "output_type": "stream",
     "text": [
      "(20, 2)\n",
      "(20, 1)\n"
     ]
    }
   ],
   "source": [
    "print(X.shape)\n",
    "print(y.shape)"
   ]
  },
  {
   "cell_type": "code",
   "execution_count": 10,
   "id": "91115c81-ebc9-448a-8ceb-e73465ebee7e",
   "metadata": {},
   "outputs": [
    {
     "name": "stdout",
     "output_type": "stream",
     "text": [
      "<class 'pandas.core.frame.DataFrame'>\n",
      "<class 'pandas.core.frame.DataFrame'>\n"
     ]
    }
   ],
   "source": [
    "print(type(X))\n",
    "print(type(y))"
   ]
  },
  {
   "cell_type": "code",
   "execution_count": 11,
   "id": "e2ed77ea-a387-4fd4-93c0-d087158924ce",
   "metadata": {},
   "outputs": [],
   "source": [
    "X_train,X_test,y_train,y_test=train_test_split(X,y,test_size=0.2,random_state=42)"
   ]
  },
  {
   "cell_type": "code",
   "execution_count": 12,
   "id": "8c922102-bc9e-4067-a935-43a76f0eba84",
   "metadata": {},
   "outputs": [
    {
     "name": "stdout",
     "output_type": "stream",
     "text": [
      "<class 'pandas.core.frame.DataFrame'>\n",
      "<class 'pandas.core.frame.DataFrame'>\n",
      "<class 'pandas.core.frame.DataFrame'>\n",
      "<class 'pandas.core.frame.DataFrame'>\n"
     ]
    }
   ],
   "source": [
    "print(type(X_test))\n",
    "print(type(y_test))\n",
    "print(type(X_train))\n",
    "print(type(y_train))"
   ]
  },
  {
   "cell_type": "markdown",
   "id": "15731cfa-1e3b-4ca1-b78f-058610192f6f",
   "metadata": {},
   "source": [
    "# Define models"
   ]
  },
  {
   "cell_type": "code",
   "execution_count": 14,
   "id": "94b5b635-8d17-4ed2-b04d-ec9eb82fbb7a",
   "metadata": {},
   "outputs": [],
   "source": [
    "model_Linear = LinearRegression()\n",
    "model_RedgeL2 = Ridge()\n",
    "model_LassoL1 = Lasso()\n",
    "model_ElasticNet = ElasticNet()"
   ]
  },
  {
   "cell_type": "markdown",
   "id": "24d16fc0-98ee-43dd-b336-9f1490eab3e6",
   "metadata": {},
   "source": [
    "# Hyperparameter tuning for Ridge, Lasso, and ElasticNet using GridSearchCV and RandomizedSearchCV\n"
   ]
  },
  {
   "cell_type": "markdown",
   "id": "27a2a543-8a00-4445-8fd4-976f4dcd1951",
   "metadata": {},
   "source": [
    "### GridSearchCV "
   ]
  },
  {
   "cell_type": "code",
   "execution_count": 17,
   "id": "e46c4104-a37e-465e-898b-701f74ea0576",
   "metadata": {},
   "outputs": [
    {
     "name": "stdout",
     "output_type": "stream",
     "text": [
      "Best Ridge Parameters (GridSearchCV): {'alpha': 0.1}\n",
      "Ridge MSE: 755111.7632626231\n"
     ]
    }
   ],
   "source": [
    "# Ridge Regression - GridSearchCV\n",
    "\n",
    "ridge_param_grid = {'alpha': [0.1, 1, 10, 100]}\n",
    "\n",
    "ridge_grid_search = GridSearchCV(model_RedgeL2, ridge_param_grid, cv=5, scoring='neg_mean_squared_error')\n",
    "\n",
    "ridge_grid_search.fit(X_train, y_train)\n",
    "\n",
    "y_pred_r2=ridge_grid_search.predict(X_test)\n",
    "\n",
    "ridge_mse = mean_squared_error(y_test, y_pred_r2)\n",
    "\n",
    "print(f\"Best Ridge Parameters (GridSearchCV): {ridge_grid_search.best_params_}\")\n",
    "print(f\"Ridge MSE: {ridge_mse}\")\n"
   ]
  },
  {
   "cell_type": "code",
   "execution_count": 18,
   "id": "e792320d-1463-4de0-90ba-501d3ca6795e",
   "metadata": {},
   "outputs": [
    {
     "name": "stdout",
     "output_type": "stream",
     "text": [
      "Best Lasso Parameters (GridSearchCV): {'alpha': 0.1}\n",
      "Lasso MSE: 753801.1407556743\n"
     ]
    }
   ],
   "source": [
    "# Lasso Regression - GridSearchCV\n",
    "\n",
    "lasso_param_grid = {'alpha': [0.1, 1, 10, 100]}\n",
    "\n",
    "lasso_grid_search = GridSearchCV(model_LassoL1, lasso_param_grid, cv=5, scoring='neg_mean_squared_error')\n",
    "\n",
    "lasso_grid_search.fit(X_train, y_train)\n",
    "\n",
    "y_pred_r1=lasso_grid_search.predict(X_test)\n",
    "\n",
    "lasso_mse = mean_squared_error(y_test, y_pred_r1)\n",
    "\n",
    "print(f\"Best Lasso Parameters (GridSearchCV): {lasso_grid_search.best_params_}\")\n",
    "print(f\"Lasso MSE: {lasso_mse}\")"
   ]
  },
  {
   "cell_type": "markdown",
   "id": "fbcf414f-5017-4466-8ee1-f9ebc099a414",
   "metadata": {},
   "source": [
    "### GridSearchCV & RandomizedSearchCV "
   ]
  },
  {
   "cell_type": "code",
   "execution_count": 20,
   "id": "ad792efd-332c-45fa-9c76-191f9b8d93e8",
   "metadata": {},
   "outputs": [
    {
     "name": "stdout",
     "output_type": "stream",
     "text": [
      "Best ElasticNet Parameters (GridSearchCV): {'alpha': 0.1, 'l1_ratio': 0.9}\n",
      "ElasticNet Grid MSE: 755907.7073351264\n",
      "--------------------------------------------------------------------------------\n",
      "Best ElasticNet Parameters (RandomizedSearchCV): {'alpha': 0.0023591373063477127, 'l1_ratio': 0.9868869366005173}\n",
      "ElasticNet Rand MSE: 753803.3684800288\n"
     ]
    }
   ],
   "source": [
    "# ElasticNet Regression - GridSearchCV\n",
    "\n",
    "elastic_net_param_grid = {\n",
    "    'alpha': [0.1, 1, 10],\n",
    "    'l1_ratio': [0.1, 0.5, 0.9]\n",
    "}\n",
    "\n",
    "elastic_net_grid_search = GridSearchCV(model_ElasticNet, elastic_net_param_grid, cv=5, scoring='neg_mean_squared_error')\n",
    "\n",
    "elastic_net_grid_search.fit(X_train, y_train)\n",
    "\n",
    "y_pred_EN_Grid=elastic_net_grid_search.predict(X_test)\n",
    "\n",
    "elastic_net_Grid_mse = mean_squared_error(y_test, y_pred_EN_Grid)\n",
    "\n",
    "print(f\"Best ElasticNet Parameters (GridSearchCV): {elastic_net_grid_search.best_params_}\")\n",
    "print(f\"ElasticNet Grid MSE: {elastic_net_Grid_mse}\")\n",
    "\n",
    "print('-'*80)\n",
    "\n",
    "# -----------------------------------------------------------------------------------------------\n",
    "\n",
    "# ElasticNet Regression - RandomizedSearchCV \n",
    "\n",
    "elastic_net_param_dist = {\n",
    "    'alpha': loguniform(0.001, 100),\n",
    "    'l1_ratio': uniform(0, 1)\n",
    "}\n",
    "elastic_net_random_search = RandomizedSearchCV(model_ElasticNet, elastic_net_param_dist, n_iter=100, cv=5, scoring='neg_mean_squared_error', random_state=42)\n",
    "\n",
    "elastic_net_random_search.fit(X_train, y_train)\n",
    "\n",
    "y_pred_EN_Rand=elastic_net_random_search.predict(X_test)\n",
    "\n",
    "elastic_net_Rand_mse = mean_squared_error(y_test, y_pred_EN_Rand)\n",
    "\n",
    "print(f\"Best ElasticNet Parameters (RandomizedSearchCV): {elastic_net_random_search.best_params_}\")\n",
    "print(f\"ElasticNet Rand MSE: {elastic_net_Rand_mse}\")"
   ]
  },
  {
   "cell_type": "markdown",
   "id": "34fced4c-8d98-4826-8670-b3267562f9ce",
   "metadata": {},
   "source": [
    "### No Regularization"
   ]
  },
  {
   "cell_type": "code",
   "execution_count": 22,
   "id": "4a8afe60-ac40-44b4-a37f-8ebccb68afb9",
   "metadata": {},
   "outputs": [
    {
     "name": "stdout",
     "output_type": "stream",
     "text": [
      "Linear Regression MSE: 753796.7694\n"
     ]
    }
   ],
   "source": [
    "# Linear Regression (No Regularization)\n",
    "\n",
    "model_Linear.fit(X_train, y_train)\n",
    "\n",
    "linear_pred = model_Linear.predict(X_test)\n",
    "\n",
    "linear_mse = mean_squared_error(y_test, linear_pred)\n",
    "\n",
    "print(f\"Linear Regression MSE: {linear_mse:.4f}\")"
   ]
  },
  {
   "cell_type": "markdown",
   "id": "c1f223b2-17a4-42be-9cd8-d66a943470fd",
   "metadata": {},
   "source": [
    "# Visualize results "
   ]
  },
  {
   "cell_type": "code",
   "execution_count": 38,
   "id": "25097f45-df76-468f-8d30-551cb10cbf62",
   "metadata": {},
   "outputs": [],
   "source": [
    "mse_values = [linear_mse, ridge_mse, lasso_mse, elastic_net_Grid_mse, elastic_net_Rand_mse]\n",
    "labels = ['Linear Regression', 'Ridge Regression', 'Lasso Regression', 'ElasticNet (GridSearchCV)', 'ElasticNet (RandomizedSearchCV)']\n",
    "\n"
   ]
  },
  {
   "cell_type": "code",
   "execution_count": 40,
   "id": "6abd5048-050a-4146-925f-4a55e8ec3f27",
   "metadata": {},
   "outputs": [
    {
     "data": {
      "text/plain": [
       "[753796.7693734544,\n",
       " 755111.7632626231,\n",
       " 753801.1407556743,\n",
       " 755907.7073351264,\n",
       " 753803.3684800288]"
      ]
     },
     "execution_count": 40,
     "metadata": {},
     "output_type": "execute_result"
    }
   ],
   "source": [
    "mse_values"
   ]
  },
  {
   "cell_type": "code",
   "execution_count": 44,
   "id": "400cec16-f337-4abb-aba4-1a90ab70f26f",
   "metadata": {},
   "outputs": [
    {
     "data": {
      "image/png": "[encoded data removed]",
      "text/plain": [
       "<Figure size 1000x600 with 1 Axes>"
      ]
     },
     "metadata": {},
     "output_type": "display_data"
    }
   ],
   "source": [
    "plt.figure(figsize=(10, 6))\n",
    "plt.barh(labels, mse_values, color='skyblue')\n",
    "plt.xlabel('Mean Squared Error (MSE)')\n",
    "plt.title('Model Performance Comparison (MSE)')\n",
    "plt.show()"
   ]
  },
  {
   "cell_type": "code",
   "execution_count": null,
   "id": "017e4dcb-b968-47e9-b5fe-04b796fe5522",
   "metadata": {},
   "outputs": [],
   "source": []
  },
  {
   "cell_type": "code",
   "execution_count": null,
   "id": "d0bc03af-f911-4087-967e-17e919b0f445",
   "metadata": {},
   "outputs": [],
   "source": []
  },
  {
   "cell_type": "code",
   "execution_count": null,
   "id": "d2bf8de1-bc16-426f-a764-1e0802cb09f9",
   "metadata": {},
   "outputs": [],
   "source": []
  },
  {
   "cell_type": "code",
   "execution_count": null,
   "id": "4d4bd71c-bc76-4bac-a235-898c5e3792e8",
   "metadata": {},
   "outputs": [],
   "source": []
  },
  {
   "cell_type": "code",
   "execution_count": null,
   "id": "89ebc48b-ed19-45e0-bd05-4b4c85c46f1e",
   "metadata": {},
   "outputs": [],
   "source": []
  }
 ],
 "metadata": {
  "kernelspec": {
   "display_name": "Python 3 (ipykernel)",
   "language": "python",
   "name": "python3"
  },
  "language_info": {
   "codemirror_mode": {
    "name": "ipython",
    "version": 3
   },
   "file_extension": ".py",
   "mimetype": "text/x-python",
   "name": "python",
   "nbconvert_exporter": "python",
   "pygments_lexer": "ipython3",
   "version": "3.11.7"
  }
 },
 "nbformat": 4,
 "nbformat_minor": 5
}
